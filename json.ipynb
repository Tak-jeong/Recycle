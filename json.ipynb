{
 "cells": [
  {
   "cell_type": "code",
   "execution_count": 6,
   "source": [
    "import os\n",
    "import glob\n",
    "import json\n",
    "import torch\n",
    "import matplotlib\n",
    "\n",
    "import numpy as np\n",
    "import pandas as pd\n",
    "import seaborn as sn\n",
    "import matplotlib.pyplot as plt\n",
    "\n",
    "from pathlib import Path\n",
    "from PIL import Image, ImageDraw\n",
    "from pandas import json_normalize\n",
    "from utils.general import user_config_dir, is_ascii, xywh2xyxy, xyxy2xywh"
   ],
   "outputs": [],
   "metadata": {}
  },
  {
   "cell_type": "code",
   "execution_count": 2,
   "source": [
    "class Colors:\n",
    "    # Ultralytics color palette https://ultralytics.com/\n",
    "    def __init__(self):\n",
    "        # hex = matplotlib.colors.TABLEAU_COLORS.values()\n",
    "        hex = ('FF3838', 'FF9D97', 'FF701F', 'FFB21D', 'CFD231', '48F90A', '92CC17', '3DDB86', '1A9334', '00D4BB',\n",
    "               '2C99A8', '00C2FF', '344593', '6473FF', '0018EC', '8438FF', '520085', 'CB38FF', 'FF95C8', 'FF37C7')\n",
    "        self.palette = [self.hex2rgb('#' + c) for c in hex]\n",
    "        self.n = len(self.palette)\n",
    "\n",
    "    def __call__(self, i, bgr=False):\n",
    "        c = self.palette[int(i) % self.n]\n",
    "        return (c[2], c[1], c[0]) if bgr else c\n",
    "\n",
    "    @staticmethod\n",
    "    def hex2rgb(h):  # rgb order (PIL)\n",
    "        return tuple(int(h[1 + i:1 + i + 2], 16) for i in (0, 2, 4))\n",
    "\n",
    "\n",
    "colors = Colors()  # create instance for 'from utils.plots import colors'"
   ],
   "outputs": [],
   "metadata": {}
  },
  {
   "cell_type": "code",
   "execution_count": 3,
   "source": [
    "def convert(size,box,idx):\n",
    "    dw = 1./size[0]\n",
    "    dh = 1./size[1]\n",
    "    \n",
    "    x = (max(box[idx][:][0]) + min(box[idx][:][0]))/2.0\n",
    "    y = (max(box[idx][:][1]) + min(box[idx][:][1]))/2.0\n",
    "    width = max(box[idx][:][0]) - min(box[idx][:][0])\n",
    "    height = max(box[idx][:][1]) - min(box[idx][:][1])\n",
    "    x = x * dw\n",
    "    w = width * dw\n",
    "    y = y * dh\n",
    "    h = height * dh\n",
    "    return (x,y,w,h)"
   ],
   "outputs": [],
   "metadata": {}
  },
  {
   "cell_type": "code",
   "execution_count": 4,
   "source": [
    "def plot_labels(labels, names=(), save_dir=Path('')):\n",
    "    # plot dataset labels\n",
    "    print('Plotting labels... ')\n",
    "    c, b = labels[:, 0], labels[:, 1:].transpose()  # classes, boxes\n",
    "\n",
    "    nc = 7 # int(c.max() + 1)  # number of classes\n",
    "\n",
    "    \n",
    "    x = pd.DataFrame(b.transpose(), columns=['x', 'y', 'width', 'height'])\n",
    "    x=x.apply(pd.to_numeric)\n",
    "\n",
    "    \n",
    "    # seaborn correlogram\n",
    "    sn.pairplot(x, corner=True, diag_kind='auto', kind='hist', diag_kws=dict(bins=50), plot_kws=dict(pmax=0.9))\n",
    "    plt.savefig(os.path.join(save_dir, 'labels_correlogram.jpg'), dpi=200)\n",
    "    plt.close()\n",
    "\n",
    "    # matplotlib labels\n",
    "    matplotlib.use('svg')  # faster\n",
    "    ax = plt.subplots(2, 2, figsize=(8, 8), tight_layout=True)[1].ravel()\n",
    "    y = ax[0].hist(c, bins=np.linspace(0, nc, nc + 1) - 0.5, rwidth=0.8)\n",
    "    # [y[2].patches[i].set_color([x / 255 for x in colors(i)]) for i in range(nc)]  # update colors bug #3195\n",
    "    ax[0].set_ylabel('instances')\n",
    "    if 0 < len(names) < 30:\n",
    "        ax[0].set_xticks(range(len(names)))\n",
    "        ax[0].set_xticklabels(names, rotation=90, fontsize=10)\n",
    "    else:\n",
    "        ax[0].set_xlabel('classes')\n",
    "    sn.histplot(x, x='x', y='y', ax=ax[2], bins=50, pmax=0.9)\n",
    "    sn.histplot(x, x='width', y='height', ax=ax[3], bins=50, pmax=0.9)\n",
    "\n",
    "    # rectangles\n",
    "    labels[:, 1:3] = 0.5  # center\n",
    "    labels[:, 1:] = xywh2xyxy(labels[:, 1:]) * 2000\n",
    "    img = Image.fromarray(np.ones((2000, 2000, 3), dtype=np.uint8) * 255)\n",
    "    for cls, *box in labels[:1000]:\n",
    "        ImageDraw.Draw(img).rectangle(box, width=1, outline=colors(cls))  # plot\n",
    "    ax[1].imshow(img)\n",
    "    ax[1].axis('off')\n",
    "\n",
    "    for a in [0, 1, 2, 3]:\n",
    "        for s in ['top', 'right', 'left', 'bottom']:\n",
    "            ax[a].spines[s].set_visible(False)\n",
    "\n",
    "    plt.savefig(os.path.join(save_dir, 'labels.jpg'), dpi=200)\n",
    "    matplotlib.use('Agg')\n",
    "    plt.close()"
   ],
   "outputs": [],
   "metadata": {}
  },
  {
   "cell_type": "code",
   "execution_count": 5,
   "source": [
    "if __name__ == \"__main__\":\n",
    "    path = Path('./samples/')\n",
    "    file_list_json = list(path.glob('*.json'))\n",
    "    labels = np.empty(5,)\n",
    "    for filename in file_list_json:\n",
    "        filename=str(filename)\n",
    "        filename = filename.split('.')[0]\n",
    "        # print(filename)\n",
    "        json_file = filename + '.json'\n",
    "        image_file = filename + '.jpg'\n",
    "        with open(json_file,encoding='utf-8') as file:\n",
    "            data = json.load(file)\n",
    "            img = Image.open(image_file)\n",
    "            size = [int(img.size[0]),int(img.size[1])]\n",
    "            df = pd.DataFrame(data['shapes'])\n",
    "            box = df['points']\n",
    "            box = box.to_numpy()\n",
    "            # print(df.size)\n",
    "            for idx in range(0,len(box)):\n",
    "                labels = np.vstack([labels,np.hstack([np.array(df['label'][idx]),np.array(convert(size,box,idx))])])\n",
    "    labels = np.delete(labels,0,0)\n",
    "\n",
    "    labels = np.where((labels=='paper') | (labels=='c_1'),0,labels)\n",
    "    labels = np.where((labels=='paperpack') | (labels=='c_2'),1,labels)\n",
    "    labels = np.where((labels=='can') | (labels=='c_3'),2,labels)\n",
    "    labels = np.where((labels=='glass') | (labels=='c_4'),3,labels)\n",
    "    labels = np.where((labels=='pet') | (labels=='c_5'),4,labels)\n",
    "    labels = np.where((labels=='plastic') | (labels=='c_6'),5,labels)\n",
    "    labels = np.where((labels=='vinyl') | (labels=='c_7'),6,labels)\n",
    "    labels = labels.astype('f8')\n",
    "    # print(labels)\n",
    "    plot_labels(labels, names=(), save_dir= '/home/tak/private-study/yolov5/img_result' )"
   ],
   "outputs": [
    {
     "output_type": "stream",
     "name": "stdout",
     "text": [
      "Plotting labels... \n"
     ]
    }
   ],
   "metadata": {}
  }
 ],
 "metadata": {
  "orig_nbformat": 4,
  "language_info": {
   "name": "python",
   "version": "3.9.4",
   "mimetype": "text/x-python",
   "codemirror_mode": {
    "name": "ipython",
    "version": 3
   },
   "pygments_lexer": "ipython3",
   "nbconvert_exporter": "python",
   "file_extension": ".py"
  },
  "kernelspec": {
   "name": "python3",
   "display_name": "Python 3.9.4 64-bit ('temp': conda)"
  },
  "interpreter": {
   "hash": "98a02c65f85d30db196e6371856cfbc8892d6d3fa385036b756a1671dc1dc951"
  }
 },
 "nbformat": 4,
 "nbformat_minor": 2
}